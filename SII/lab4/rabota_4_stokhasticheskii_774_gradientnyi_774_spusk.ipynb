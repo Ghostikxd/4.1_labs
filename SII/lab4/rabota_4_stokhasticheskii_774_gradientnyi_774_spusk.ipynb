{
 "cells": [
  {
   "cell_type": "markdown",
   "id": "1448d8d5",
   "metadata": {},
   "source": [
    "Стохастический градиентный спуск"
   ]
  },
  {
   "cell_type": "code",
   "execution_count": 1,
   "id": "a64d0bef",
   "metadata": {},
   "outputs": [],
   "source": [
    "import numpy as np\n",
    "import matplotlib.pyplot as plt\n",
    "import time"
   ]
  },
  {
   "cell_type": "code",
   "execution_count": 2,
   "id": "50a89304",
   "metadata": {},
   "outputs": [],
   "source": [
    "class LinearRegressionGD:\n",
    "    def __init__(self, lr=0.01, max_iter=1000, tol=1e-3, intercept = True):\n",
    "        # скорость обучения градиентного спуска\n",
    "        self.learning_rate = lr \n",
    "        # максимальное число итераций\n",
    "        self.max_iteration = max_iter \n",
    "        # критерий сходимости  \n",
    "        self.tolerance_convergence  = tol\n",
    "        # наличие свободного члена\n",
    "        self.intercept = intercept\n",
    "        # инициальзация весов: None\n",
    "        self.theta = None\n",
    "        self.n = None\n",
    "        self.d = None\n",
    "         \n",
    "    def fit(self, X, y):\n",
    "        self.X = X.copy()\n",
    "        if self.intercept:\n",
    "            self.X = np.hstack((np.ones((self.X.shape[0], 1)), self.X))   \n",
    "        # размерность вектора X \n",
    "        self.n, self.d = self.X.shape\n",
    "        # инициализация случайных весов\n",
    "        self.theta = np.random.randn(self.d)\n",
    "        steps, errors = [], []\n",
    "        step = 0\n",
    "        for _ in range(self.max_iteration):\n",
    "            grad = self.gradient(self.X, y)\n",
    "            self.theta -= self.learning_rate * grad\n",
    "            new_error = ((y - self.predict(X)).T @ (y - self.predict(X))) / self.n\n",
    "            step += 1\n",
    "            steps.append(step)\n",
    "            errors.append(new_error)\n",
    "            # проверка сходимости\n",
    "            if np.linalg.norm(grad) < self.tolerance_convergence:\n",
    "                break\n",
    "        return steps, errors\n",
    "    \n",
    "    def gradient(self, X, y):\n",
    "        return X.T @ (X @ self.theta - y) / len(y)\n",
    "             \n",
    "    def predict(self, X):\n",
    "        if self.intercept:\n",
    "            X_ = np.hstack((np.ones((X.shape[0],1)), X))\n",
    "        else:\n",
    "            X_ = X\n",
    "        return X_ @ self.theta\n",
    "    \n",
    "    def MSE(self, X, y):\n",
    "        return ((y - self.predict(X)).T @ (y - self.predict(X))) / len(y)\n",
    "    \n",
    "    def MAE(self, X, y):\n",
    "        return abs(y - self.predict(X)).mean()\n",
    "    \n",
    "    def MAPE(self, X, y):\n",
    "        return abs((y - self.predict(X))/y).mean()"
   ]
  },
  {
   "cell_type": "code",
   "execution_count": 3,
   "id": "c45914bf",
   "metadata": {},
   "outputs": [
    {
     "name": "stdout",
     "output_type": "stream",
     "text": [
      "Время обучения: 0.017447948455810547\n",
      "MSE:  3.379725327885091\n",
      "Коэффициенты:  [5.80518315 0.92326374 2.27986501 3.06482532 3.99258943 5.05943499]\n"
     ]
    },
    {
     "data": {
      "text/plain": [
       "<matplotlib.collections.PathCollection at 0x1d84d7253d0>"
      ]
     },
     "execution_count": 3,
     "metadata": {},
     "output_type": "execute_result"
    },
    {
     "data": {
      "image/png": "[encoded data removed]",
      "text/plain": [
       "<Figure size 432x288 with 1 Axes>"
      ]
     },
     "metadata": {
      "needs_background": "light"
     },
     "output_type": "display_data"
    }
   ],
   "source": [
    "X = np.random.randn(100, 5)\n",
    "y = X @ np.array([1, 2, 3, 4, 5]) + np.random.randn(100) * 2 + 6\n",
    "\n",
    "start_time = time.time()\n",
    "modelGD = LinearRegressionGD(lr=0.01, max_iter=400, tol=1e-3, intercept = True)\n",
    "steps, errors = modelGD.fit(X, y)\n",
    "print(\"Время обучения:\", time.time() - start_time)\n",
    "# Predict using predict method from model\n",
    "y_pred = modelGD.predict(X)\n",
    "print(\"MSE: \", modelGD.MSE(X, y))\n",
    "print(\"Коэффициенты: \", modelGD.theta)\n",
    "plt.scatter(X[:,2], y)\n",
    "plt.scatter(X[:,2], y_pred)"
   ]
  },
  {
   "cell_type": "code",
   "execution_count": 4,
   "id": "5f6b28a7",
   "metadata": {},
   "outputs": [
    {
     "data": {
      "image/png": "[encoded data removed]",
      "text/plain": [
       "<Figure size 432x288 with 1 Axes>"
      ]
     },
     "metadata": {
      "needs_background": "light"
     },
     "output_type": "display_data"
    }
   ],
   "source": [
    "fig = plt.plot(steps, errors)"
   ]
  },
  {
   "cell_type": "code",
   "execution_count": 5,
   "id": "894f52d9",
   "metadata": {},
   "outputs": [],
   "source": [
    "class LinearRegressionSGD:\n",
    "    def __init__(self, lr=0.01, max_iter=1000, batch_size=32, tol=1e-3, intercept = True):\n",
    "        # скорость обучения градиентного спуска\n",
    "        self.learning_rate = lr \n",
    "        # максимальное число итераций\n",
    "        self.max_iteration = max_iter \n",
    "        # размер мини-батча \n",
    "        self.batch_size = batch_size  \n",
    "        # критерий сходимости  \n",
    "        self.tolerance_convergence  = tol\n",
    "        # наличие свободного члена\n",
    "        self.intercept = intercept\n",
    "        # инициальзация весов: None\n",
    "        self.theta = None\n",
    "        self.n = None\n",
    "        self.d = None\n",
    "        self.regularization = regularization\n",
    "        self.alpha = alpha\n",
    "         \n",
    "    def fit(self, X, y):\n",
    "        self.X = X.copy()\n",
    "        self.y = y.copy()\n",
    "        if self.intercept:\n",
    "            self.X = np.hstack((np.ones((self.X.shape[0], 1)), self.X))   \n",
    "        # размерность вектора X \n",
    "        self.n, self.d = self.X.shape\n",
    "        # инициализация случайных весов\n",
    "        self.theta = np.random.randn(self.d)\n",
    "        steps, errors = [], []\n",
    "        step = 0\n",
    "        for _ in range(self.max_iteration):\n",
    "            # перемешивание данных\n",
    "            indices = np.random.permutation(self.n)\n",
    "            X = self.X[indices]\n",
    "            y = self.y[indices]\n",
    "            # цикл по мини-батчам\n",
    "            for i in range(0, self.n, self.batch_size):\n",
    "                X_batch = X[i:i+self.batch_size]\n",
    "                y_batch = y[i:i+self.batch_size]\n",
    "                grad = self.gradient(X_batch, y_batch)\n",
    "                self.theta -= self.learning_rate * grad\n",
    "            new_error = ((self.y - self.X @ self.theta).T @ (self.y - self.X @ self.theta)) / self.n\n",
    "            step += 1\n",
    "            steps.append(step)\n",
    "            errors.append(new_error)\n",
    "            # проверка сходимости\n",
    "            if np.linalg.norm(grad) < self.tolerance_convergence:\n",
    "                break\n",
    "        return steps, errors\n",
    "    \n",
    "    def gradient(self, X, y):\n",
    "        grad = X.T @ (X @ self.theta - y) / len(y)\n",
    "        if self.regularization == 'l1':\n",
    "            grad += self.alpha * np.sign(self.theta)\n",
    "        elif self.regularization == 'l2':\n",
    "            grad += 2 * self.alpha * self.theta\n",
    "        elif self.regularization == 'elasticnet':\n",
    "            grad += self.alpha * self.theta + (1 - self.alpha) * np.sign(self.theta)\n",
    "        return grad\n",
    "             \n",
    "    def predict(self, X):\n",
    "        if self.intercept:\n",
    "            X_ = np.hstack((np.ones((X.shape[0],1)), X))\n",
    "        else:\n",
    "            X_ = X\n",
    "        return X_ @ self.theta\n",
    "    \n",
    "    def MSE(self, X, y):\n",
    "        return ((y - self.predict(X)).T @ (y - self.predict(X))) / len(y)\n",
    "    \n",
    "    def MAE(self, X, y):\n",
    "        return abs(y - self.predict(X)).mean()\n",
    "    \n",
    "    def MAPE(self, X, y):\n",
    "        return abs((y - self.predict(X))/y).mean()"
   ]
  },
  {
   "cell_type": "code",
   "execution_count": 6,
   "id": "dc83aa02",
   "metadata": {},
   "outputs": [
    {
     "name": "stdout",
     "output_type": "stream",
     "text": [
      "Время обучения: 0.008029460906982422\n",
      "MSE:  3.2715155434607883\n",
      "Коэффициенты:  [5.9581516  0.95429486 2.34572228 3.23767934 4.06904021 5.22419489]\n"
     ]
    },
    {
     "data": {
      "text/plain": [
       "<matplotlib.collections.PathCollection at 0x1d84d8aa790>"
      ]
     },
     "execution_count": 6,
     "metadata": {},
     "output_type": "execute_result"
    },
    {
     "data": {
      "image/png": "[encoded data removed]",
      "text/plain": [
       "<Figure size 432x288 with 1 Axes>"
      ]
     },
     "metadata": {
      "needs_background": "light"
     },
     "output_type": "display_data"
    }
   ],
   "source": [
    "start_time = time.time()\n",
    "modelSGD = LinearRegressionSGD(lr=0.01, max_iter=50, batch_size=8, tol=1e-3, intercept = True)\n",
    "steps, errors = modelSGD.fit(X, y)\n",
    "print(\"Время обучения:\", time.time() - start_time)\n",
    "# Predict using predict method from model\n",
    "y_pred = modelSGD.predict(X)\n",
    "print(\"MSE: \", np.mean((y_pred - y) ** 2))\n",
    "print(\"Коэффициенты: \", modelSGD.theta)\n",
    "plt.scatter(X[:,2], y)\n",
    "plt.scatter(X[:,2], y_pred)"
   ]
  },
  {
   "cell_type": "code",
   "execution_count": 7,
   "id": "27d81ba6",
   "metadata": {},
   "outputs": [
    {
     "data": {
      "image/png": "[encoded data removed]",
      "text/plain": [
       "<Figure size 432x288 with 1 Axes>"
      ]
     },
     "metadata": {
      "needs_background": "light"
     },
     "output_type": "display_data"
    }
   ],
   "source": [
    "fig = plt.plot(steps, errors)"
   ]
  },
  {
   "cell_type": "code",
   "execution_count": 8,
   "id": "dbf9eb3c",
   "metadata": {},
   "outputs": [],
   "source": [
    "def train_test_split_(x, y, test_size=0.2, random_state=None):\n",
    "    data = np.concatenate((x, y.reshape(y.shape[0],1)), axis=1)\n",
    "    # Задаем seed для воспроизводимости результатов, если указан random_state\n",
    "    if random_state is not None:\n",
    "        np.random.seed(random_state)\n",
    "    \n",
    "    # Вычисляем количество элементов для тестовой выборки\n",
    "    num_test = int(len(data) * test_size)\n",
    "    \n",
    "    # Случайно перемешиваем индексы\n",
    "    shuffled_indices = np.random.permutation(len(data))\n",
    "    \n",
    "    # Выбираем индексы для тестовой выборки\n",
    "    test_indices = shuffled_indices[:num_test]\n",
    "    \n",
    "    # Выбираем индексы для обучающей выборки\n",
    "    train_indices = shuffled_indices[num_test:]\n",
    "    \n",
    "    # Разделяем данные на обучающую и тестовую выборки\n",
    "    train_data = data[train_indices]\n",
    "    test_data = data[test_indices]\n",
    "    \n",
    "    return train_data[:,:-1], train_data[:,-1], test_data[:,:-1], test_data[:,-1]"
   ]
  },
  {
   "cell_type": "code",
   "execution_count": 9,
   "id": "3dca737d",
   "metadata": {},
   "outputs": [
    {
     "name": "stdout",
     "output_type": "stream",
     "text": [
      "        age       sex       bmi        bp        s1        s2        s3  \\\n",
      "0  0.038076  0.050680  0.061696  0.021872 -0.044223 -0.034821 -0.043401   \n",
      "1 -0.001882 -0.044642 -0.051474 -0.026328 -0.008449 -0.019163  0.074412   \n",
      "2  0.085299  0.050680  0.044451 -0.005671 -0.045599 -0.034194 -0.032356   \n",
      "3 -0.089063 -0.044642 -0.011595 -0.036656  0.012191  0.024991 -0.036038   \n",
      "4  0.005383 -0.044642 -0.036385  0.021872  0.003935  0.015596  0.008142   \n",
      "\n",
      "         s4        s5        s6  diabetes_measure  \n",
      "0 -0.002592  0.019908 -0.017646             151.0  \n",
      "1 -0.039493 -0.068330 -0.092204              75.0  \n",
      "2 -0.002592  0.002864 -0.025930             141.0  \n",
      "3  0.034309  0.022692 -0.009362             206.0  \n",
      "4 -0.002592 -0.031991 -0.046641             135.0  \n"
     ]
    }
   ],
   "source": [
    "from sklearn import datasets\n",
    "import pandas as pd\n",
    "diabetes = datasets.load_diabetes()\n",
    "df = pd.DataFrame(diabetes.data)\n",
    "df.columns = diabetes.feature_names\n",
    "\n",
    "# Создание нового столбца, содержащего целевую переменную 'y' \n",
    "# (количественный показатель прогрессирования заболевания\n",
    "# через год после исходного уровня)\n",
    "df['diabetes_measure'] = diabetes.target\n",
    "X = df.iloc[:,:-1].values # Определение признаков\n",
    "y = df.iloc[:,-1].values # Определение целевой переменной\n",
    "print(df.head())\n",
    "# Разделение данных на обучающие и тестовые наборы\n",
    "x_train, y_train, x_test, y_test = train_test_split_(X, y, test_size = 0.3, random_state = 123) \n",
    "# Подготовка данных для применения линейной регрессии\n",
    "x_train1 = np.hstack((np.ones((x_train.shape[0], 1)), x_train)) # Добавление столбца с единицами к обучающим данным\n",
    "x_test1 = np.hstack((np.ones((x_test.shape[0], 1)), x_test)) # Добавление столбца с единицами к тестовым данным\n"
   ]
  },
  {
   "cell_type": "markdown",
   "id": "3446a1e7",
   "metadata": {},
   "source": [
    "Реализуем L2-регуляризацию с помощью прямых вычислений:\n",
    "\\begin{align}w &= (X^TX + \\lambda I_d)^{-1}X^Ty\\end{align}"
   ]
  },
  {
   "cell_type": "code",
   "execution_count": 10,
   "id": "bd022747",
   "metadata": {},
   "outputs": [
    {
     "name": "stdout",
     "output_type": "stream",
     "text": [
      "l, MSE_test - MSE_train:\n",
      "1e-20 99.60532251958193\n",
      "2.5353644939701167e-20 99.60532251958193\n",
      "6.428073117284345e-20 99.60532251958193\n",
      "1.6297508346206402e-19 99.60532251958193\n",
      "4.1320124001153346e-19 99.60532251958193\n",
      "1.0476157527896661e-18 99.60532251958193\n",
      "2.6560877829466947e-18 99.60532251958193\n",
      "6.734150657750801e-18 99.60532251958193\n",
      "1.7073526474706886e-17 99.60532251958193\n",
      "4.328761281083062e-17 99.60532251958193\n",
      "1.097498765493059e-16 99.60532251957966\n",
      "2.782559402207126e-16 99.60532251958148\n",
      "7.054802310718631e-16 99.60532251957966\n",
      "1.788649529057435e-15 99.60532251958057\n",
      "4.534878508128591e-15 99.6053225195792\n",
      "1.1497569953977357e-14 99.60532251957602\n",
      "2.9150530628251696e-14 99.60532251957284\n",
      "7.390722033525775e-14 99.60532251956283\n",
      "1.8738174228603867e-13 99.60532251953691\n",
      "4.750810162102794e-13 99.60532251946552\n",
      "1.2045035402587836e-12 99.60532251929817\n",
      "3.0538555088334124e-12 99.60532251886752\n",
      "7.742636826811278e-12 99.60532251777795\n",
      "1.9630406500402685e-11 99.60532251500854\n",
      "4.977023564332114e-11 99.60532250798951\n",
      "1.2618568830660183e-10 99.60532249019843\n",
      "3.1992671377973845e-10 99.60532244508204\n",
      "8.111308307896856e-10 99.60532233069898\n",
      "2.0565123083486515e-09 99.60532204070205\n",
      "5.214008287999674e-09 99.60532130544561\n",
      "1.3219411484660288e-08 99.60531944129434\n",
      "3.351602650938834e-08 99.60531471493232\n",
      "8.497534359086438e-08 99.60530273144468\n",
      "2.1544346900318867e-07 99.60527234618758\n",
      "5.462277217684337e-07 99.60519529080148\n",
      "1.3848863713938746e-06 99.60499981370913\n",
      "3.5111917342151275e-06 99.60450347865844\n",
      "8.902150854450392e-06 99.60324041369086\n",
      "2.257019719633917e-05 99.60000825797488\n",
      "5.72236765935022e-05 99.59162544127821\n",
      "0.0001450828778495943 99.56921938146661\n",
      "0.0003678379771828619 99.50585355028215\n",
      "0.0009326033468832181 99.31435176237073\n",
      "0.002364489412645407 98.74510660124042\n",
      "0.005994842503189421 97.41895969961297\n",
      "0.01519911082952927 95.67770920055773\n",
      "0.038535285937105195 95.77410213493249\n",
      "0.09770099572992247 102.27370450661374\n",
      "0.2477076355991714 120.92231957618105\n",
      "0.6280291441834273 152.55333965605223\n",
      "1.5922827933410872 182.56662981247928\n",
      "4.03701725859655 184.39211591716776\n",
      "10.235310218990268 155.9639694441239\n",
      "25.950242113997426 124.92367114461649\n",
      "65.79332246575656 106.05067820020395\n",
      "166.81005372000558 97.1342469619185\n",
      "422.9242874389499 93.3506630415086\n",
      "1072.2672220103254 91.81417614415477\n",
      "2718.588242732929 91.20111041715973\n",
      "6892.612104349681 90.95819802130063\n",
      "17475.28400007683 90.86221553583619\n",
      "44306.214575838865 90.82433113735078\n",
      "112332.4032978022 90.80938455820524\n",
      "284803.5868435793 90.80348866714849\n",
      "722080.9018385457 90.80116310474386\n",
      "1830738.2802953697 90.80024583922386\n",
      "4641588.833612791 90.79988404834785\n",
      "11768119.524349943 90.7997413501871\n",
      "29836472.402833343 90.79968506703244\n",
      "75646332.7554629 90.79966286778927\n",
      "191791026.16724926 90.79965411194644\n",
      "486260158.0065334 90.79965065846318\n",
      "1232846739.4420633 90.79964929633752\n",
      "3125715849.6882353 90.79964875908536\n",
      "7924828983.539186 90.79964854718492\n",
      "20092330025.650375 90.79964846360599\n",
      "50941380148.16365 90.79964843064226\n",
      "129154966501.48827 90.7996484176374\n",
      "327454916287.7732 90.79964841250967\n",
      "830217568131.9701 90.79964841048786\n",
      "2104904144512.0305 90.79964840968842\n",
      "5336699231206.302 90.79964840937464\n",
      "13530477745797.965 90.79964840925004\n",
      "34304692863149.26 90.79964840920093\n",
      "86974900261777.98 90.79964840918183\n",
      "220513073990305.9 90.79964840917455\n",
      "559081018251222.25 90.79964840917182\n",
      "1417474162926796.0 90.79964840917\n",
      "3593813663804640.5 90.79964840917\n",
      "9111627561154868.0 90.7996484091691\n",
      "2.310129700083139e+16 90.7996484091691\n",
      "5.857020818056674e+16 90.7996484091691\n",
      "1.4849682622544573e+17 90.7996484091691\n",
      "3.7649358067924864e+17 90.7996484091691\n",
      "9.545484566618327e+17 90.7996484091691\n",
      "2.4201282647943634e+18 90.7996484091691\n",
      "6.135907273413189e+18 90.7996484091691\n",
      "1.5556761439304659e+19 90.7996484091691\n",
      "3.94420605943768e+19 90.7996484091691\n",
      "1e+20 90.7996484091691\n",
      "Время обучения: 0.0\n",
      "MSE_train, MSE_test 2869.227435858859 2964.967005740644\n",
      "Коэффициенты:  [ 152.55584069   16.07184531 -237.55690619  525.32345528  261.83182685\n",
      " -161.18154179  -52.02891831 -149.67152952  200.36054426  417.31956474\n",
      "  109.49124445]\n",
      "np.linalg.det(x_train.T @ x_train):  0.0053506579928018\n",
      "np.linalg.det(x_train.T @ x_train + 0.43287*id):  242.13472296475143\n"
     ]
    },
    {
     "data": {
      "image/png": "[encoded data removed]",
      "text/plain": [
       "<Figure size 432x288 with 1 Axes>"
      ]
     },
     "metadata": {
      "needs_background": "light"
     },
     "output_type": "display_data"
    }
   ],
   "source": [
    "# Подготовка к вычислению регуляризации и построению графиков\n",
    "train_scores, test_scores = [], []\n",
    "id = np.eye(x_train.shape[1]+1)\n",
    "id[0][0] = 0\n",
    "print(\"l, MSE_test - MSE_train:\")\n",
    "# Обучение модели с различными значениями параметра регуляризации и оценка ее качества\n",
    "for l in np.logspace(-20, 20, 100):\n",
    "    w = np.linalg.inv(x_train1.T @ x_train1 + l*id) @ x_train1.T @ y_train # Вычисление весов модели\n",
    "    # Оценка среднеквадратичной ошибки на обучающем и тестовом наборах\n",
    "    MSE_train = (y_train - x_train1 @ w).T @ (y_train - x_train1 @ w)/ x_train1.shape[0]\n",
    "    train_scores.append(MSE_train)\n",
    "    MSE_test = (y_test - x_test1 @ w).T @ (y_test - x_test1 @ w)/ x_test1.shape[0]\n",
    "    test_scores.append(MSE_test)\n",
    "    print(l, MSE_test - MSE_train)\n",
    "plt.plot(train_scores, 'g') # График среднеквадратичной ошибки на обучающем наборе (зеленый цвет)\n",
    "plt.plot(test_scores, 'r') # График среднеквадратичной ошибки на тестовом наборе (красный цвет)\n",
    "\n",
    "start_time = time.time() # Засекаем время начала обучения модели\n",
    "# Вычисление весов модели линейной регрессии с регуляризацией\n",
    "w = np.linalg.inv(x_train1.T @ x_train1 + 0.038*id) @ x_train1.T @ y_train\n",
    "MSE_train = (y_train - x_train1 @ w).T @ (y_train - x_train1 @ w)/ x_train1.shape[0]\n",
    "MSE_test = (y_test - x_test1 @ w).T @ (y_test - x_test1 @ w)/ x_test1.shape[0]\n",
    "print(\"Время обучения:\", time.time() - start_time)\n",
    "print(\"MSE_train, MSE_test\", MSE_train, MSE_test)\n",
    "print(\"Коэффициенты: \", w)\n",
    "print(\"np.linalg.det(x_train.T @ x_train): \", np.linalg.det(x_train1.T @ x_train1))\n",
    "print(\"np.linalg.det(x_train.T @ x_train + 0.43287*id): \", np.linalg.det(x_train1.T @ x_train1 + 0.43287*id))"
   ]
  },
  {
   "cell_type": "code",
   "execution_count": 11,
   "id": "1df04e36",
   "metadata": {},
   "outputs": [
    {
     "name": "stdout",
     "output_type": "stream",
     "text": [
      "Время обучения: 0.22944164276123047\n",
      "MSE_train:  3060.373485640746\n",
      "MSE_test:  3187.08646560202\n",
      "Коэффициенты:  [ 152.69077714   42.40003462  -97.23685054  374.87420067  217.48475471\n",
      "   -7.98703838  -39.08044106 -191.96067315  161.10079227  284.13538688\n",
      "  158.81094408]\n"
     ]
    },
    {
     "data": {
      "text/plain": [
       "[<matplotlib.lines.Line2D at 0x1d850e3d220>]"
      ]
     },
     "execution_count": 11,
     "metadata": {},
     "output_type": "execute_result"
    },
    {
     "data": {
      "image/png": "[encoded data removed]",
      "text/plain": [
       "<Figure size 432x288 with 1 Axes>"
      ]
     },
     "metadata": {
      "needs_background": "light"
     },
     "output_type": "display_data"
    }
   ],
   "source": [
    "start_time = time.time()\n",
    "modelGD = LinearRegressionGD(lr=0.1, max_iter=4000, tol=1e-3, intercept = True)\n",
    "steps, errors = modelGD.fit(x_train, y_train)\n",
    "print(\"Время обучения:\", time.time() - start_time)\n",
    "# Predict using predict method from model\n",
    "print(\"MSE_train: \", modelGD.MSE(x_train, y_train))\n",
    "print(\"MSE_test: \", modelGD.MSE(x_test, y_test))\n",
    "print(\"Коэффициенты: \", modelGD.theta)\n",
    "plt.plot(steps, errors)"
   ]
  },
  {
   "cell_type": "code",
   "execution_count": 12,
   "id": "035b1f4d",
   "metadata": {},
   "outputs": [
    {
     "name": "stdout",
     "output_type": "stream",
     "text": [
      "Время обучения: 0.1321725845336914\n",
      "MSE_train:  2874.4609628426965\n",
      "MSE_test:  2959.60001488648\n",
      "Коэффициенты:  [ 151.54919828   13.48021606 -242.17979114  533.74603458  266.90566414\n",
      "  -74.58982618 -117.81123411 -206.82436788  169.24660125  390.33197463\n",
      "  120.62395727]\n"
     ]
    },
    {
     "data": {
      "text/plain": [
       "[<matplotlib.lines.Line2D at 0x1d850de14f0>]"
      ]
     },
     "execution_count": 12,
     "metadata": {},
     "output_type": "execute_result"
    },
    {
     "data": {
      "image/png": "[encoded data removed]",
      "text/plain": [
       "<Figure size 432x288 with 1 Axes>"
      ]
     },
     "metadata": {
      "needs_background": "light"
     },
     "output_type": "display_data"
    }
   ],
   "source": [
    "start_time = time.time()\n",
    "modelSGD = LinearRegressionSGD(lr=0.1, max_iter=400, batch_size=8, tol=1e-3, intercept = True)\n",
    "steps, errors = modelSGD.fit(x_train, y_train)\n",
    "print(\"Время обучения:\", time.time() - start_time)\n",
    "# Predict using predict method from model\n",
    "print(\"MSE_train: \", modelSGD.MSE(x_train, y_train))\n",
    "print(\"MSE_test: \", modelSGD.MSE(x_test, y_test))\n",
    "print(\"Коэффициенты: \", modelSGD.theta)\n",
    "plt.plot(steps, errors)"
   ]
  },
  {
   "cell_type": "code",
   "execution_count": 13,
   "id": "ee36e10c",
   "metadata": {},
   "outputs": [
    {
     "name": "stdout",
     "output_type": "stream",
     "text": [
      "Время обучения: 11.836442947387695\n",
      "MSE_train:  2849.011855855992\n",
      "MSE_test:  2952.8675760651913\n",
      "Коэффициенты:  [ 154.02481144    9.47190624 -261.29242025  540.26642715  275.24723531\n",
      " -810.88978447  441.83478072  135.58266152  294.83303718  669.60045235\n",
      "  101.81403851]\n"
     ]
    },
    {
     "data": {
      "text/plain": [
       "[<matplotlib.lines.Line2D at 0x1d85113fca0>]"
      ]
     },
     "execution_count": 13,
     "metadata": {},
     "output_type": "execute_result"
    },
    {
     "data": {
      "image/png": "[encoded data removed]",
      "text/plain": [
       "<Figure size 432x288 with 1 Axes>"
      ]
     },
     "metadata": {
      "needs_background": "light"
     },
     "output_type": "display_data"
    }
   ],
   "source": [
    "start_time = time.time()\n",
    "modelSGD = LinearRegressionSGD(lr=0.1, max_iter=40000, batch_size=8, tol=1e-3, intercept = True)\n",
    "steps, errors = modelSGD.fit(x_train, y_train)\n",
    "print(\"Время обучения:\", time.time() - start_time)\n",
    "# Predict using predict method from model\n",
    "print(\"MSE_train: \", modelSGD.MSE(x_train, y_train))\n",
    "print(\"MSE_test: \", modelSGD.MSE(x_test, y_test))\n",
    "print(\"Коэффициенты: \", modelSGD.theta)\n",
    "plt.plot(steps, errors)"
   ]
  },
  {
   "cell_type": "code",
   "execution_count": 14,
   "id": "601a084f",
   "metadata": {},
   "outputs": [
    {
     "name": "stdout",
     "output_type": "stream",
     "text": [
      "Время обучения: 4.202653408050537\n",
      "MSE_train:  2852.267371300491\n",
      "MSE_test:  2948.1222231535207\n",
      "Коэффициенты:  [ 151.66732572   12.01094548 -259.01774853  545.44619426  272.59457248\n",
      " -501.54639352  193.24751893    3.30485912  262.40232093  553.34987629\n",
      "  102.03661913]\n"
     ]
    },
    {
     "data": {
      "text/plain": [
       "[<matplotlib.lines.Line2D at 0x1d8508fbe80>]"
      ]
     },
     "execution_count": 14,
     "metadata": {},
     "output_type": "execute_result"
    },
    {
     "data": {
      "image/png": "[encoded data removed]",
      "text/plain": [
       "<Figure size 432x288 with 1 Axes>"
      ]
     },
     "metadata": {
      "needs_background": "light"
     },
     "output_type": "display_data"
    }
   ],
   "source": [
    "start_time = time.time()\n",
    "modelSGD = LinearRegressionSGD(lr=0.1, max_iter=40000, batch_size=32, tol=1e-3, intercept = True)\n",
    "steps, errors = modelSGD.fit(x_train, y_train)\n",
    "print(\"Время обучения:\", time.time() - start_time)\n",
    "# Predict using predict method from model\n",
    "print(\"MSE_train: \", modelSGD.MSE(x_train, y_train))\n",
    "print(\"MSE_test: \", modelSGD.MSE(x_test, y_test))\n",
    "print(\"Коэффициенты: \", modelSGD.theta)\n",
    "plt.plot(steps, errors)"
   ]
  },
  {
   "cell_type": "markdown",
   "id": "34dd61df",
   "metadata": {},
   "source": [
    "Видим, что у стохастического градиентного спуска качество выше, разрыв в качестве на обучающей и тестовой выборке меньше, время выполнения меньше, и чем у обычного градиентного спуска, и чем у прямых вычислений с L2-регуляризацией! При этом стохастический градиентный спуск работает более \"шумно\". Многое зависит и от оптимального подбора размера мини-батча."
   ]
  },
  {
   "cell_type": "markdown",
   "id": "25cfd864",
   "metadata": {},
   "source": [
    "\n",
    "\n",
    "<b>Домашнее задание</b>"
   ]
  },
  {
   "cell_type": "markdown",
   "id": "8eb9312a",
   "metadata": {},
   "source": [
    "Объясните, почему коэффициенты всех построенных моделей сильно отличаются между собой."
   ]
  },
  {
   "cell_type": "markdown",
   "id": "409f819e",
   "metadata": {},
   "source": [
    "Сравните скорость и качество обучения моделей регрессии с помощью обычного и стохастического градиентного спуска на наборе данных housing.csv."
   ]
  },
  {
   "cell_type": "markdown",
   "id": "33f7359c",
   "metadata": {},
   "source": [
    "1. Разные методы обучения модели:\n",
    "\n",
    "В вашем коде используются два разных метода для обучения модели линейной регрессии: LinearRegressionGD и LinearRegressionSGD. Различия в алгоритмах оптимизации, таких как градиентный спуск и стохастический градиентный спуск, могут привести к различиям в полученных коэффициентах.\n",
    "\n",
    "2. Разные параметры обучения:\n",
    "\n",
    "Вы обучаете модели с различными параметрами, такими как max_iter (максимальное количество итераций), batch_size (размер пакета для стохастического градиентного спуска), и tol (условие остановки). Разные значения этих параметров могут повлиять на то, как быстро и точно модель сходится к оптимальным коэффициентам.\n",
    "\n",
    "3. Использование регуляризации:\n",
    "\n",
    "Ваш код также включает регуляризацию с разными значениями параметра регуляризации (переменная l в цикле for). Разные значения параметра регуляризации могут приводить к различным весам модели, особенно при наличии большого шкалирования значений l.\n",
    "\n",
    "4. Случайная инициализация:\n",
    "\n",
    "Некоторые методы могут использовать случайную инициализацию коэффициентов модели, что может привести к различным значениям при разных запусках."
   ]
  },
  {
   "cell_type": "code",
   "execution_count": null,
   "id": "92e5b159",
   "metadata": {},
   "outputs": [],
   "source": []
  },
  {
   "cell_type": "markdown",
   "id": "7ec4de9f",
   "metadata": {},
   "source": [
    "Подберите в цикле оптимальное, с Вашей точки зрения, значение размера мини-батча и поясните Ваш выбор."
   ]
  },
  {
   "cell_type": "code",
   "execution_count": null,
   "id": "45898f47",
   "metadata": {},
   "outputs": [],
   "source": []
  },
  {
   "cell_type": "markdown",
   "id": "00b2dc91",
   "metadata": {},
   "source": [
    "Реализуйте в классе LinearRegressionSGD стохастический градиентный спуск с регуляризацией L1, L2, ElasticNet и подберите оптимальные параметры регуляризации, чтобы сократить разрыв качества на обучающей и тестовой выборке."
   ]
  },
  {
   "cell_type": "code",
   "execution_count": null,
   "id": "fe82229c",
   "metadata": {},
   "outputs": [],
   "source": []
  }
 ],
 "metadata": {
  "kernelspec": {
   "display_name": "Python 3 (ipykernel)",
   "language": "python",
   "name": "python3"
  },
  "language_info": {
   "codemirror_mode": {
    "name": "ipython",
    "version": 3
   },
   "file_extension": ".py",
   "mimetype": "text/x-python",
   "name": "python",
   "nbconvert_exporter": "python",
   "pygments_lexer": "ipython3",
   "version": "3.11.6"
  }
 },
 "nbformat": 4,
 "nbformat_minor": 5
}
