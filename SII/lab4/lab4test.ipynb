{
 "cells": [
  {
   "cell_type": "markdown",
   "metadata": {},
   "source": [
    "lab2 class with regs\n"
   ]
  },
  {
   "cell_type": "code",
   "execution_count": null,
   "metadata": {},
   "outputs": [],
   "source": [
    "class LogisticRegressionGD:\n",
    "    def __init__(self, threshold=0.5): \n",
    "        self.a = np.zeros(2).reshape(1, 2)\n",
    "        self._estimator_type = \"classifier\" \n",
    "        self.threshold = threshold \n",
    "    def sigmoid(self, x):\n",
    "        return 1/(1 + np.exp(-x @ self.a))    \n",
    "    def predict_proba(self, x): \n",
    "        return self.sigmoid(x)\n",
    "    def predict(self, x): \n",
    "        return (self.predict_proba(x) > self.threshold).astype(int)\n",
    "    def coefs(self):\n",
    "        return self.a      \n",
    "    def LogLikelihood(self, x, Y):\n",
    "        return (Y * np.log(self.predict_proba(x) + 1e-7) + (1 - Y) * np.log(1 + 1e-7 - self.predict_proba(x))).sum()\n",
    "    def CrossEntropy(self, x, Y):\n",
    "        return (-Y * np.log(self.predict_proba(x)) - (1 - Y) * np.log(1 - self.predict_proba(x))).sum()    \n",
    "    def accuracy(self, x, Y):\n",
    "        return (self.predict(x) == Y).mean() \n",
    "    \n",
    "    def MSE(self, x, Y):\n",
    "        return (((Y.to_numpy() - self.predict(x).to_numpy()).T@(Y.to_numpy() - self.predict(x).to_numpy()))/x.shape[0])[0][0]\n",
    "\n",
    "    def fit(self, x, Y, alpha = 0.01, epsylon = 0.01, max_steps = 10000, Rtype = \"LL\", intercept = True, reg = \"No\", lam = 0, rho = 0):\n",
    "        self.intercept = intercept\n",
    "        self.x = x.copy()\n",
    "        self.Y = Y.copy()\n",
    "        if intercept:\n",
    "            self.x.insert(0, \"intercept\", np.ones((self.x.shape[0],1)), allow_duplicates=True)                \n",
    "        self.a = np.zeros(x.shape[1]).reshape(x.shape[1],1)\n",
    "        steps, errors = [], []\n",
    "        step = 0\n",
    "        for _ in range(max_steps):\n",
    "            if Rtype == \"LL\":\n",
    "                new_error = self.LogLikelihood(x, Y)\n",
    "                dT_a = x.T @(Y - self.predict_proba(x)) / x.shape[0]\n",
    "                if reg == \"L1\":\n",
    "                    dT_a += lam*(np.sign(self.a))\n",
    "                elif reg == \"L2\":\n",
    "                    dT_a += 2*lam*((self.a))\n",
    "                elif reg == \"ElasticNet\":\n",
    "                    dT_a += rho*lam*(np.sign(self.a)) + 2*(1-rho)*lam*((self.a))  \n",
    "                self.a += alpha*dT_a\n",
    "            elif Rtype == \"CE\":\n",
    "                new_error = self.CrossEntropy(x, Y)\n",
    "                #display(new_error)\n",
    "                dT_a = -x.T @(Y - self.predict_proba(x)) / x.shape[0]\n",
    "                self.a -= alpha*dT_a\n",
    "            #new_error = self.MSE(self.x, self.Y)\n",
    "            step += 1\n",
    "            steps.append(step)\n",
    "            errors.append(new_error)"
   ]
  }
 ],
 "metadata": {
  "kernelspec": {
   "display_name": "Python 3",
   "language": "python",
   "name": "python3"
  },
  "language_info": {
   "name": "python",
   "version": "3.11.6"
  }
 },
 "nbformat": 4,
 "nbformat_minor": 2
}
