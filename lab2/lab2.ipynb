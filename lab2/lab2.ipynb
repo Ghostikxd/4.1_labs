{
 "cells": [
  {
   "cell_type": "code",
   "execution_count": 275,
   "metadata": {},
   "outputs": [
    {
     "name": "stdout",
     "output_type": "stream",
     "text": [
      "<class 'pandas.core.frame.DataFrame'>\n",
      "RangeIndex: 151406 entries, 0 to 151405\n",
      "Data columns (total 28 columns):\n",
      " #   Column       Non-Null Count   Dtype  \n",
      "---  ------       --------------   -----  \n",
      " 0   variable_1   151406 non-null  object \n",
      " 1   variable_2   151406 non-null  int64  \n",
      " 2   variable_3   151406 non-null  int64  \n",
      " 3   variable_4   151406 non-null  int64  \n",
      " 4   variable_5   151406 non-null  object \n",
      " 5   variable_6   151295 non-null  float64\n",
      " 6   variable_7   55767 non-null   float64\n",
      " 7   variable_8   121507 non-null  float64\n",
      " 8   variable_9   16970 non-null   float64\n",
      " 9   variable_10  151406 non-null  int64  \n",
      " 10  variable_11  151406 non-null  int64  \n",
      " 11  variable_12  149878 non-null  float64\n",
      " 12  variable_13  149749 non-null  float64\n",
      " 13  variable_14  148479 non-null  float64\n",
      " 14  variable_15  13 non-null      float64\n",
      " 15  variable_16  151394 non-null  float64\n",
      " 16  variable_17  151394 non-null  float64\n",
      " 17  variable_18  151394 non-null  float64\n",
      " 18  variable_19  151406 non-null  float64\n",
      " 19  variable_20  151405 non-null  object \n",
      " 20  variable_21  151406 non-null  object \n",
      " 21  variable_22  151406 non-null  object \n",
      " 22  variable_23  151406 non-null  int64  \n",
      " 23  variable_24  149199 non-null  float64\n",
      " 24  variable_25  151406 non-null  int64  \n",
      " 25  variable_26  151406 non-null  int64  \n",
      " 26  variable_27  149339 non-null  float64\n",
      " 27  variable_28  151406 non-null  object \n",
      "dtypes: float64(14), int64(8), object(6)\n",
      "memory usage: 32.3+ MB\n"
     ]
    }
   ],
   "source": [
    "import numpy as np\n",
    "import pandas as pd\n",
    "import matplotlib.pyplot as plt\n",
    "import pandas as pd\n",
    "from sklearn.model_selection import train_test_split\n",
    "import category_encoders as ce\n",
    "from sklearn.impute import SimpleImputer\n",
    "from sklearn.preprocessing import MinMaxScaler, StandardScaler\n",
    "from sklearn.metrics import f1_score\n",
    "\n",
    "\n",
    "df = pd.read_csv(\"insclass_train.csv\")\n",
    "\n",
    "features = df.drop('target', axis=1)\n",
    "target_variable = df['target']\n",
    "RANDOM_STATE = 42\n",
    "\n",
    "features.info()\n"
   ]
  },
  {
   "cell_type": "code",
   "execution_count": 276,
   "metadata": {},
   "outputs": [
    {
     "name": "stdout",
     "output_type": "stream",
     "text": [
      "variable_1      object\n",
      "variable_2       int64\n",
      "variable_3       int64\n",
      "variable_4       int64\n",
      "variable_5      object\n",
      "variable_6     float64\n",
      "variable_7     float64\n",
      "variable_8     float64\n",
      "variable_9     float64\n",
      "variable_10      int64\n",
      "variable_11      int64\n",
      "variable_12    float64\n",
      "variable_13    float64\n",
      "variable_14    float64\n",
      "variable_15    float64\n",
      "variable_16    float64\n",
      "variable_17    float64\n",
      "variable_18    float64\n",
      "variable_19    float64\n",
      "variable_20     object\n",
      "variable_21     object\n",
      "variable_22     object\n",
      "variable_23      int64\n",
      "variable_24    float64\n",
      "variable_25      int64\n",
      "variable_26      int64\n",
      "variable_27    float64\n",
      "variable_28     object\n",
      "target           int64\n",
      "dtype: object\n"
     ]
    }
   ],
   "source": [
    "data_types = df.dtypes\n",
    "print(data_types)"
   ]
  },
  {
   "cell_type": "code",
   "execution_count": 277,
   "metadata": {},
   "outputs": [
    {
     "name": "stderr",
     "output_type": "stream",
     "text": [
      "C:\\Users\\naclz\\AppData\\Local\\Packages\\PythonSoftwareFoundation.Python.3.11_qbz5n2kfra8p0\\LocalCache\\local-packages\\Python311\\site-packages\\category_encoders\\utils.py:28: FutureWarning: is_categorical_dtype is deprecated and will be removed in a future version. Use isinstance(dtype, CategoricalDtype) instead\n",
      "  elif pd.api.types.is_categorical_dtype(cols):\n",
      "C:\\Users\\naclz\\AppData\\Local\\Packages\\PythonSoftwareFoundation.Python.3.11_qbz5n2kfra8p0\\LocalCache\\local-packages\\Python311\\site-packages\\category_encoders\\utils.py:50: FutureWarning: is_categorical_dtype is deprecated and will be removed in a future version. Use isinstance(dtype, CategoricalDtype) instead\n",
      "  return pd.api.types.is_categorical_dtype(dtype)\n",
      "C:\\Users\\naclz\\AppData\\Local\\Packages\\PythonSoftwareFoundation.Python.3.11_qbz5n2kfra8p0\\LocalCache\\local-packages\\Python311\\site-packages\\category_encoders\\utils.py:50: FutureWarning: is_categorical_dtype is deprecated and will be removed in a future version. Use isinstance(dtype, CategoricalDtype) instead\n",
      "  return pd.api.types.is_categorical_dtype(dtype)\n",
      "C:\\Users\\naclz\\AppData\\Local\\Packages\\PythonSoftwareFoundation.Python.3.11_qbz5n2kfra8p0\\LocalCache\\local-packages\\Python311\\site-packages\\category_encoders\\utils.py:50: FutureWarning: is_categorical_dtype is deprecated and will be removed in a future version. Use isinstance(dtype, CategoricalDtype) instead\n",
      "  return pd.api.types.is_categorical_dtype(dtype)\n",
      "C:\\Users\\naclz\\AppData\\Local\\Packages\\PythonSoftwareFoundation.Python.3.11_qbz5n2kfra8p0\\LocalCache\\local-packages\\Python311\\site-packages\\category_encoders\\utils.py:50: FutureWarning: is_categorical_dtype is deprecated and will be removed in a future version. Use isinstance(dtype, CategoricalDtype) instead\n",
      "  return pd.api.types.is_categorical_dtype(dtype)\n",
      "C:\\Users\\naclz\\AppData\\Local\\Packages\\PythonSoftwareFoundation.Python.3.11_qbz5n2kfra8p0\\LocalCache\\local-packages\\Python311\\site-packages\\category_encoders\\utils.py:50: FutureWarning: is_categorical_dtype is deprecated and will be removed in a future version. Use isinstance(dtype, CategoricalDtype) instead\n",
      "  return pd.api.types.is_categorical_dtype(dtype)\n",
      "C:\\Users\\naclz\\AppData\\Local\\Packages\\PythonSoftwareFoundation.Python.3.11_qbz5n2kfra8p0\\LocalCache\\local-packages\\Python311\\site-packages\\category_encoders\\utils.py:50: FutureWarning: is_categorical_dtype is deprecated and will be removed in a future version. Use isinstance(dtype, CategoricalDtype) instead\n",
      "  return pd.api.types.is_categorical_dtype(dtype)\n",
      "C:\\Users\\naclz\\AppData\\Local\\Packages\\PythonSoftwareFoundation.Python.3.11_qbz5n2kfra8p0\\LocalCache\\local-packages\\Python311\\site-packages\\category_encoders\\utils.py:50: FutureWarning: is_categorical_dtype is deprecated and will be removed in a future version. Use isinstance(dtype, CategoricalDtype) instead\n",
      "  return pd.api.types.is_categorical_dtype(dtype)\n",
      "C:\\Users\\naclz\\AppData\\Local\\Packages\\PythonSoftwareFoundation.Python.3.11_qbz5n2kfra8p0\\LocalCache\\local-packages\\Python311\\site-packages\\category_encoders\\utils.py:50: FutureWarning: is_categorical_dtype is deprecated and will be removed in a future version. Use isinstance(dtype, CategoricalDtype) instead\n",
      "  return pd.api.types.is_categorical_dtype(dtype)\n",
      "C:\\Users\\naclz\\AppData\\Local\\Packages\\PythonSoftwareFoundation.Python.3.11_qbz5n2kfra8p0\\LocalCache\\local-packages\\Python311\\site-packages\\category_encoders\\utils.py:50: FutureWarning: is_categorical_dtype is deprecated and will be removed in a future version. Use isinstance(dtype, CategoricalDtype) instead\n",
      "  return pd.api.types.is_categorical_dtype(dtype)\n",
      "C:\\Users\\naclz\\AppData\\Local\\Packages\\PythonSoftwareFoundation.Python.3.11_qbz5n2kfra8p0\\LocalCache\\local-packages\\Python311\\site-packages\\category_encoders\\utils.py:50: FutureWarning: is_categorical_dtype is deprecated and will be removed in a future version. Use isinstance(dtype, CategoricalDtype) instead\n",
      "  return pd.api.types.is_categorical_dtype(dtype)\n",
      "C:\\Users\\naclz\\AppData\\Local\\Packages\\PythonSoftwareFoundation.Python.3.11_qbz5n2kfra8p0\\LocalCache\\local-packages\\Python311\\site-packages\\category_encoders\\utils.py:50: FutureWarning: is_categorical_dtype is deprecated and will be removed in a future version. Use isinstance(dtype, CategoricalDtype) instead\n",
      "  return pd.api.types.is_categorical_dtype(dtype)\n",
      "C:\\Users\\naclz\\AppData\\Local\\Packages\\PythonSoftwareFoundation.Python.3.11_qbz5n2kfra8p0\\LocalCache\\local-packages\\Python311\\site-packages\\category_encoders\\utils.py:50: FutureWarning: is_categorical_dtype is deprecated and will be removed in a future version. Use isinstance(dtype, CategoricalDtype) instead\n",
      "  return pd.api.types.is_categorical_dtype(dtype)\n",
      "C:\\Users\\naclz\\AppData\\Local\\Packages\\PythonSoftwareFoundation.Python.3.11_qbz5n2kfra8p0\\LocalCache\\local-packages\\Python311\\site-packages\\category_encoders\\utils.py:50: FutureWarning: is_categorical_dtype is deprecated and will be removed in a future version. Use isinstance(dtype, CategoricalDtype) instead\n",
      "  return pd.api.types.is_categorical_dtype(dtype)\n",
      "C:\\Users\\naclz\\AppData\\Local\\Packages\\PythonSoftwareFoundation.Python.3.11_qbz5n2kfra8p0\\LocalCache\\local-packages\\Python311\\site-packages\\category_encoders\\utils.py:50: FutureWarning: is_categorical_dtype is deprecated and will be removed in a future version. Use isinstance(dtype, CategoricalDtype) instead\n",
      "  return pd.api.types.is_categorical_dtype(dtype)\n",
      "C:\\Users\\naclz\\AppData\\Local\\Packages\\PythonSoftwareFoundation.Python.3.11_qbz5n2kfra8p0\\LocalCache\\local-packages\\Python311\\site-packages\\category_encoders\\utils.py:50: FutureWarning: is_categorical_dtype is deprecated and will be removed in a future version. Use isinstance(dtype, CategoricalDtype) instead\n",
      "  return pd.api.types.is_categorical_dtype(dtype)\n",
      "C:\\Users\\naclz\\AppData\\Local\\Packages\\PythonSoftwareFoundation.Python.3.11_qbz5n2kfra8p0\\LocalCache\\local-packages\\Python311\\site-packages\\category_encoders\\utils.py:50: FutureWarning: is_categorical_dtype is deprecated and will be removed in a future version. Use isinstance(dtype, CategoricalDtype) instead\n",
      "  return pd.api.types.is_categorical_dtype(dtype)\n",
      "C:\\Users\\naclz\\AppData\\Local\\Packages\\PythonSoftwareFoundation.Python.3.11_qbz5n2kfra8p0\\LocalCache\\local-packages\\Python311\\site-packages\\category_encoders\\utils.py:50: FutureWarning: is_categorical_dtype is deprecated and will be removed in a future version. Use isinstance(dtype, CategoricalDtype) instead\n",
      "  return pd.api.types.is_categorical_dtype(dtype)\n",
      "C:\\Users\\naclz\\AppData\\Local\\Packages\\PythonSoftwareFoundation.Python.3.11_qbz5n2kfra8p0\\LocalCache\\local-packages\\Python311\\site-packages\\category_encoders\\utils.py:50: FutureWarning: is_categorical_dtype is deprecated and will be removed in a future version. Use isinstance(dtype, CategoricalDtype) instead\n",
      "  return pd.api.types.is_categorical_dtype(dtype)\n",
      "C:\\Users\\naclz\\AppData\\Local\\Packages\\PythonSoftwareFoundation.Python.3.11_qbz5n2kfra8p0\\LocalCache\\local-packages\\Python311\\site-packages\\category_encoders\\utils.py:50: FutureWarning: is_categorical_dtype is deprecated and will be removed in a future version. Use isinstance(dtype, CategoricalDtype) instead\n",
      "  return pd.api.types.is_categorical_dtype(dtype)\n",
      "C:\\Users\\naclz\\AppData\\Local\\Packages\\PythonSoftwareFoundation.Python.3.11_qbz5n2kfra8p0\\LocalCache\\local-packages\\Python311\\site-packages\\category_encoders\\utils.py:50: FutureWarning: is_categorical_dtype is deprecated and will be removed in a future version. Use isinstance(dtype, CategoricalDtype) instead\n",
      "  return pd.api.types.is_categorical_dtype(dtype)\n",
      "C:\\Users\\naclz\\AppData\\Local\\Packages\\PythonSoftwareFoundation.Python.3.11_qbz5n2kfra8p0\\LocalCache\\local-packages\\Python311\\site-packages\\category_encoders\\utils.py:50: FutureWarning: is_categorical_dtype is deprecated and will be removed in a future version. Use isinstance(dtype, CategoricalDtype) instead\n",
      "  return pd.api.types.is_categorical_dtype(dtype)\n",
      "C:\\Users\\naclz\\AppData\\Local\\Packages\\PythonSoftwareFoundation.Python.3.11_qbz5n2kfra8p0\\LocalCache\\local-packages\\Python311\\site-packages\\category_encoders\\utils.py:50: FutureWarning: is_categorical_dtype is deprecated and will be removed in a future version. Use isinstance(dtype, CategoricalDtype) instead\n",
      "  return pd.api.types.is_categorical_dtype(dtype)\n",
      "C:\\Users\\naclz\\AppData\\Local\\Packages\\PythonSoftwareFoundation.Python.3.11_qbz5n2kfra8p0\\LocalCache\\local-packages\\Python311\\site-packages\\category_encoders\\utils.py:50: FutureWarning: is_categorical_dtype is deprecated and will be removed in a future version. Use isinstance(dtype, CategoricalDtype) instead\n",
      "  return pd.api.types.is_categorical_dtype(dtype)\n",
      "C:\\Users\\naclz\\AppData\\Local\\Packages\\PythonSoftwareFoundation.Python.3.11_qbz5n2kfra8p0\\LocalCache\\local-packages\\Python311\\site-packages\\category_encoders\\utils.py:50: FutureWarning: is_categorical_dtype is deprecated and will be removed in a future version. Use isinstance(dtype, CategoricalDtype) instead\n",
      "  return pd.api.types.is_categorical_dtype(dtype)\n",
      "C:\\Users\\naclz\\AppData\\Local\\Packages\\PythonSoftwareFoundation.Python.3.11_qbz5n2kfra8p0\\LocalCache\\local-packages\\Python311\\site-packages\\category_encoders\\utils.py:50: FutureWarning: is_categorical_dtype is deprecated and will be removed in a future version. Use isinstance(dtype, CategoricalDtype) instead\n",
      "  return pd.api.types.is_categorical_dtype(dtype)\n",
      "C:\\Users\\naclz\\AppData\\Local\\Packages\\PythonSoftwareFoundation.Python.3.11_qbz5n2kfra8p0\\LocalCache\\local-packages\\Python311\\site-packages\\category_encoders\\utils.py:50: FutureWarning: is_categorical_dtype is deprecated and will be removed in a future version. Use isinstance(dtype, CategoricalDtype) instead\n",
      "  return pd.api.types.is_categorical_dtype(dtype)\n",
      "C:\\Users\\naclz\\AppData\\Local\\Packages\\PythonSoftwareFoundation.Python.3.11_qbz5n2kfra8p0\\LocalCache\\local-packages\\Python311\\site-packages\\category_encoders\\utils.py:50: FutureWarning: is_categorical_dtype is deprecated and will be removed in a future version. Use isinstance(dtype, CategoricalDtype) instead\n",
      "  return pd.api.types.is_categorical_dtype(dtype)\n",
      "C:\\Users\\naclz\\AppData\\Local\\Packages\\PythonSoftwareFoundation.Python.3.11_qbz5n2kfra8p0\\LocalCache\\local-packages\\Python311\\site-packages\\category_encoders\\utils.py:50: FutureWarning: is_categorical_dtype is deprecated and will be removed in a future version. Use isinstance(dtype, CategoricalDtype) instead\n",
      "  return pd.api.types.is_categorical_dtype(dtype)\n",
      "C:\\Users\\naclz\\AppData\\Local\\Packages\\PythonSoftwareFoundation.Python.3.11_qbz5n2kfra8p0\\LocalCache\\local-packages\\Python311\\site-packages\\category_encoders\\utils.py:50: FutureWarning: is_categorical_dtype is deprecated and will be removed in a future version. Use isinstance(dtype, CategoricalDtype) instead\n",
      "  return pd.api.types.is_categorical_dtype(dtype)\n",
      "C:\\Users\\naclz\\AppData\\Local\\Packages\\PythonSoftwareFoundation.Python.3.11_qbz5n2kfra8p0\\LocalCache\\local-packages\\Python311\\site-packages\\category_encoders\\utils.py:50: FutureWarning: is_categorical_dtype is deprecated and will be removed in a future version. Use isinstance(dtype, CategoricalDtype) instead\n",
      "  return pd.api.types.is_categorical_dtype(dtype)\n"
     ]
    }
   ],
   "source": [
    "features = features.drop(['variable_7', 'variable_9', 'variable_15'], axis=1)\n",
    "\n",
    "categorical_columns = ['variable_1', 'variable_5', 'variable_20', 'variable_21', 'variable_22', 'variable_28']\n",
    "\n",
    "encoder = ce.TargetEncoder()\n",
    "\n",
    "features[categorical_columns] = encoder.fit_transform(features[categorical_columns], target_variable)"
   ]
  },
  {
   "cell_type": "code",
   "execution_count": 278,
   "metadata": {},
   "outputs": [
    {
     "data": {
      "text/plain": [
       "Index(['variable_1', 'variable_2', 'variable_3', 'variable_4', 'variable_5',\n",
       "       'variable_6', 'variable_8', 'variable_10', 'variable_11', 'variable_12',\n",
       "       'variable_13', 'variable_14', 'variable_16', 'variable_17',\n",
       "       'variable_18', 'variable_19', 'variable_20', 'variable_21',\n",
       "       'variable_22', 'variable_23', 'variable_24', 'variable_25',\n",
       "       'variable_26', 'variable_27', 'variable_28'],\n",
       "      dtype='object')"
      ]
     },
     "execution_count": 278,
     "metadata": {},
     "output_type": "execute_result"
    }
   ],
   "source": [
    "numeric_columns = features.select_dtypes(include='number').columns\n",
    "numeric_columns"
   ]
  },
  {
   "cell_type": "code",
   "execution_count": 279,
   "metadata": {},
   "outputs": [],
   "source": [
    "imputer = SimpleImputer(missing_values=np.nan, strategy='mean') \n",
    "imputer.fit(features[numeric_columns])\n",
    "features[numeric_columns] = imputer.transform(features[numeric_columns])\n"
   ]
  },
  {
   "cell_type": "code",
   "execution_count": 280,
   "metadata": {},
   "outputs": [],
   "source": [
    "#scaler = MinMaxScaler() f1_score =0.18\n",
    "scaler = StandardScaler() #f1_score = 0.24\n",
    "features[numeric_columns] = scaler.fit_transform(features[numeric_columns])\n",
    "features[\"variable_0\"] = np.ones((features.shape[0]))"
   ]
  },
  {
   "cell_type": "code",
   "execution_count": 281,
   "metadata": {},
   "outputs": [
    {
     "name": "stdout",
     "output_type": "stream",
     "text": [
      "<class 'pandas.core.frame.DataFrame'>\n",
      "RangeIndex: 151406 entries, 0 to 151405\n",
      "Data columns (total 26 columns):\n",
      " #   Column       Non-Null Count   Dtype  \n",
      "---  ------       --------------   -----  \n",
      " 0   variable_1   151406 non-null  float64\n",
      " 1   variable_2   151406 non-null  float64\n",
      " 2   variable_3   151406 non-null  float64\n",
      " 3   variable_4   151406 non-null  float64\n",
      " 4   variable_5   151406 non-null  float64\n",
      " 5   variable_6   151406 non-null  float64\n",
      " 6   variable_8   151406 non-null  float64\n",
      " 7   variable_10  151406 non-null  float64\n",
      " 8   variable_11  151406 non-null  float64\n",
      " 9   variable_12  151406 non-null  float64\n",
      " 10  variable_13  151406 non-null  float64\n",
      " 11  variable_14  151406 non-null  float64\n",
      " 12  variable_16  151406 non-null  float64\n",
      " 13  variable_17  151406 non-null  float64\n",
      " 14  variable_18  151406 non-null  float64\n",
      " 15  variable_19  151406 non-null  float64\n",
      " 16  variable_20  151406 non-null  float64\n",
      " 17  variable_21  151406 non-null  float64\n",
      " 18  variable_22  151406 non-null  float64\n",
      " 19  variable_23  151406 non-null  float64\n",
      " 20  variable_24  151406 non-null  float64\n",
      " 21  variable_25  151406 non-null  float64\n",
      " 22  variable_26  151406 non-null  float64\n",
      " 23  variable_27  151406 non-null  float64\n",
      " 24  variable_28  151406 non-null  float64\n",
      " 25  variable_0   151406 non-null  float64\n",
      "dtypes: float64(26)\n",
      "memory usage: 30.0 MB\n"
     ]
    }
   ],
   "source": [
    "features.shape\n",
    "features.info()"
   ]
  },
  {
   "cell_type": "code",
   "execution_count": 282,
   "metadata": {},
   "outputs": [
    {
     "data": {
      "text/plain": [
       "(37852, 1)"
      ]
     },
     "execution_count": 282,
     "metadata": {},
     "output_type": "execute_result"
    }
   ],
   "source": [
    "features_train, features_test, target_train, target_test = train_test_split(features, target_variable, \n",
    "                                                                            test_size=0.25,\n",
    "                                                                            stratify=target_variable, # Чтобы соотношение 0 и 1 в обучающей и тестовой выборке совпадало\n",
    "                                                                            random_state=RANDOM_STATE) # Для воспроизводимости\n",
    "\n",
    "target_train = np.array(target_train).reshape(-1, 1)\n",
    "target_test = np.array(target_test).reshape(-1, 1)\n",
    "target_test.shape"
   ]
  },
  {
   "cell_type": "code",
   "execution_count": 283,
   "metadata": {},
   "outputs": [
    {
     "name": "stdout",
     "output_type": "stream",
     "text": [
      "target\n",
      "0    136947\n",
      "1     14459\n",
      "Name: count, dtype: int64\n"
     ]
    }
   ],
   "source": [
    "target_counts = df[\"target\"].value_counts()\n",
    "print(target_counts)\n"
   ]
  },
  {
   "cell_type": "code",
   "execution_count": 284,
   "metadata": {},
   "outputs": [],
   "source": [
    "class LogisticRegressionGD:\n",
    "    def __init__(self, threshold=0.5): \n",
    "        self.a = np.zeros(2).reshape(1, 2)\n",
    "        self._estimator_type = \"classifier\" \n",
    "        self.threshold = threshold \n",
    "    def sigmoid(self, x):\n",
    "        return 1/(1 + np.exp(-x @ self.a))    \n",
    "    def predict_proba(self, x): \n",
    "        return self.sigmoid(x)\n",
    "    def predict(self, x): \n",
    "        return (self.predict_proba(x) > self.threshold).astype(int)\n",
    "    def coefs(self):\n",
    "        return self.a      \n",
    "    def LogLikelihood(self, x, Y):\n",
    "        return (Y * np.log(self.predict_proba(x) + 1e-7) + (1 - Y) * np.log(1 + 1e-7 - self.predict_proba(x))).mean()\n",
    "    def CrossEntropy(self, x, Y):\n",
    "        return (-Y * np.log(self.predict_proba(x)) - (1 - Y) * np.log(1 - self.predict_proba(x))).mean()    \n",
    "    def accuracy(self, x, Y):\n",
    "        return (self.predict(x) == Y).mean() \n",
    "    def fit(self, x, Y, alpha = 0.01, epsylon = 0.01, max_steps = 10000, Rtype = \"LL\"):\n",
    "        self.a = np.zeros(x.shape[1]).reshape(x.shape[1],1)\n",
    "        steps, errors = [], []\n",
    "        step = 0\n",
    "        for _ in range(max_steps):\n",
    "            if Rtype == \"LL\":\n",
    "                new_error = self.LogLikelihood(x, Y)\n",
    "                dT_a = x.T @(Y - self.predict_proba(x)) / x.shape[0]  \n",
    "                self.a += alpha*dT_a\n",
    "            elif Rtype == \"CE\":\n",
    "                new_error = self.CrossEntropy(x, Y)\n",
    "                #display(new_error)\n",
    "                dT_a = -x.T @(Y - self.predict_proba(x)) / x.shape[0]\n",
    "                self.a -= alpha*dT_a\n",
    "            step += 1\n",
    "            steps.append(step)\n",
    "            errors.append(new_error)\n",
    "            #if new_error < epsylon:\n",
    "            #    break\n",
    "        return steps, errors"
   ]
  },
  {
   "cell_type": "code",
   "execution_count": 285,
   "metadata": {},
   "outputs": [
    {
     "name": "stdout",
     "output_type": "stream",
     "text": [
      "Accuracy on test (LL): 0.6671774278769946\n",
      "Accuracy on test (CE): 0.6671774278769946\n"
     ]
    }
   ],
   "source": [
    "lr = LogisticRegressionGD()\n",
    "steps_LL, errors_LL = lr.fit(\n",
    "    features_train[numeric_columns], \n",
    "    target_train, \n",
    "    alpha=0.01,\n",
    "    epsylon=0.01,\n",
    "    max_steps=1000,\n",
    "    Rtype=\"LL\"\n",
    ")\n",
    "print(f\"Accuracy on test (LL): {lr.accuracy(features_test[numeric_columns], target_test)[0]}\")\n",
    "steps_CE, errors_CE = lr.fit(\n",
    "    features_train[numeric_columns], \n",
    "    target_train, \n",
    "    alpha=0.01,\n",
    "    epsylon=0.01,\n",
    "    max_steps=1000,\n",
    "    Rtype=\"CE\"\n",
    ")\n",
    "print(f\"Accuracy on test (CE): {lr.accuracy(features_test[numeric_columns], target_test)[0]}\")"
   ]
  },
  {
   "cell_type": "code",
   "execution_count": 286,
   "metadata": {},
   "outputs": [
    {
     "data": {
      "image/png": "[encoded data removed]",
      "text/plain": [
       "<Figure size 640x480 with 1 Axes>"
      ]
     },
     "metadata": {},
     "output_type": "display_data"
    }
   ],
   "source": [
    "fig = plt.figure()\n",
    "ax = fig.add_subplot()\n",
    "\n",
    "ax.set_title('Изменение значений функций потерь при градиентном спуске', fontsize=10, fontweight='bold')\n",
    "\n",
    "ax.set_xlabel('Шаг градиентного спуска')\n",
    "ax.set_ylabel('Значение функции ошибки')\n",
    "_ = ax.plot(steps_LL, errors_LL, label='LL')\n",
    "_ = ax.plot(steps_CE, errors_CE, label='CE')\n",
    "\n",
    "handles, labels = ax.get_legend_handles_labels()\n",
    "_ = ax.legend(handles, labels)"
   ]
  },
  {
   "cell_type": "code",
   "execution_count": 287,
   "metadata": {},
   "outputs": [
    {
     "data": {
      "image/png": "[encoded data removed]",
      "text/plain": [
       "<Figure size 640x480 with 2 Axes>"
      ]
     },
     "metadata": {},
     "output_type": "display_data"
    }
   ],
   "source": [
    "from sklearn.metrics import confusion_matrix, ConfusionMatrixDisplay\n",
    "\n",
    "cm = confusion_matrix(target_test, lr.predict(features_test[numeric_columns]), labels=[0, 1])\n",
    "disp = ConfusionMatrixDisplay(confusion_matrix=cm, display_labels=[0, 1])\n",
    "_ = disp.plot(cmap=plt.cm.Blues)\n"
   ]
  },
  {
   "cell_type": "code",
   "execution_count": 288,
   "metadata": {},
   "outputs": [
    {
     "name": "stdout",
     "output_type": "stream",
     "text": [
      "F1 Score: 0.24418046556275497\n"
     ]
    }
   ],
   "source": [
    "f1 = f1_score(target_test, lr.predict(features_test[numeric_columns]))\n",
    "print(f\"F1 Score: {f1}\")"
   ]
  }
 ],
 "metadata": {
  "kernelspec": {
   "display_name": "Python 3",
   "language": "python",
   "name": "python3"
  },
  "language_info": {
   "codemirror_mode": {
    "name": "ipython",
    "version": 3
   },
   "file_extension": ".py",
   "mimetype": "text/x-python",
   "name": "python",
   "nbconvert_exporter": "python",
   "pygments_lexer": "ipython3",
   "version": "3.11.6"
  }
 },
 "nbformat": 4,
 "nbformat_minor": 2
}
