{
 "cells": [
  {
   "cell_type": "code",
   "execution_count": 10,
   "metadata": {},
   "outputs": [
    {
     "name": "stdout",
     "output_type": "stream",
     "text": [
      "      year  na_sales  eu_sales  other_sales    0    1    2    3    4    5   \n",
      "0     2012      0.38      0.52         0.25  0.0  0.0  0.0  0.0  0.0  0.0  \\\n",
      "1     1996      0.00      0.00         0.00  0.0  0.0  0.0  0.0  0.0  0.0   \n",
      "2     2009      0.09      0.00         0.01  0.0  0.0  0.0  0.0  0.0  0.0   \n",
      "3     2007      0.00      0.00         0.00  0.0  0.0  0.0  1.0  0.0  0.0   \n",
      "4     2016      0.00      0.00         0.00  0.0  0.0  0.0  0.0  0.0  0.0   \n",
      "...    ...       ...       ...          ...  ...  ...  ...  ...  ...  ...   \n",
      "4253  2010      0.00      0.00         0.00  0.0  0.0  0.0  0.0  0.0  0.0   \n",
      "4254  2007      3.06      1.18         0.46  0.0  0.0  0.0  0.0  0.0  0.0   \n",
      "4255  2015      0.00      0.00         0.00  0.0  1.0  0.0  0.0  0.0  0.0   \n",
      "4256  1996      0.00      0.00         0.00  0.0  0.0  0.0  0.0  1.0  0.0   \n",
      "4257  1992      0.00      0.00         0.00  0.0  0.0  0.0  0.0  0.0  0.0   \n",
      "\n",
      "      ...  301  302  303  304  305  306  307  308  309  310  \n",
      "0     ...  0.0  0.0  0.0  0.0  0.0  0.0  0.0  0.0  0.0  0.0  \n",
      "1     ...  0.0  0.0  0.0  0.0  0.0  0.0  0.0  0.0  0.0  0.0  \n",
      "2     ...  0.0  0.0  0.0  0.0  0.0  0.0  0.0  0.0  0.0  0.0  \n",
      "3     ...  0.0  0.0  0.0  0.0  0.0  0.0  0.0  0.0  0.0  0.0  \n",
      "4     ...  0.0  0.0  0.0  0.0  0.0  0.0  0.0  0.0  0.0  0.0  \n",
      "...   ...  ...  ...  ...  ...  ...  ...  ...  ...  ...  ...  \n",
      "4253  ...  0.0  0.0  0.0  0.0  0.0  0.0  0.0  0.0  0.0  0.0  \n",
      "4254  ...  0.0  0.0  0.0  0.0  0.0  0.0  0.0  0.0  0.0  0.0  \n",
      "4255  ...  0.0  0.0  0.0  0.0  0.0  0.0  0.0  0.0  0.0  0.0  \n",
      "4256  ...  0.0  0.0  0.0  0.0  0.0  0.0  0.0  0.0  0.0  0.0  \n",
      "4257  ...  0.0  0.0  0.0  0.0  0.0  0.0  0.0  0.0  0.0  0.0  \n",
      "\n",
      "[4258 rows x 315 columns]\n"
     ]
    },
    {
     "data": {
      "text/plain": [
       "' # Проверка на пропущенные значения\\nmissing_values = data[\"jp_sales\"].isnull().sum()\\nprint(\"Количество пропущенных значений в столбце \\'jp_sales\\':\", missing_values)\\n\\n# Проверка на аномалии\\nanomalies = data[data[\"jp_sales\"].isnull() | (data[\"jp_sales\"] < 0)]\\nprint(\"Количество аномалий в столбце \\'jp_sales\\':\", len(anomalies))\\nprint(\"Примеры аномалий:\")\\nprint(anomalies.head()) '"
      ]
     },
     "execution_count": 10,
     "metadata": {},
     "output_type": "execute_result"
    }
   ],
   "source": [
    "import pandas as pd\n",
    "from sklearn.preprocessing import OneHotEncoder\n",
    "from sklearn.model_selection import train_test_split\n",
    "from sklearn.preprocessing import StandardScaler\n",
    "\n",
    "# Загрузка данных\n",
    "data = pd.read_csv(\"Zadanie_1.csv\")\n",
    "\n",
    "# Выбираем факторные признаки (числовые признаки)\n",
    "numeric_features = [\n",
    "    \"year\",\n",
    "    \"na_sales\",\n",
    "    \"eu_sales\",\n",
    "    \"other_sales\",\n",
    "]\n",
    "\n",
    "# Выбираем категориальные признаки для кодирования\n",
    "categorical_features = [\n",
    "    \"platform\",\n",
    "    \"genre\",\n",
    "    \"publisher\",\n",
    "]\n",
    "\n",
    "# Применяем One-Hot Encoding к категориальным признакам\n",
    "encoder = OneHotEncoder()\n",
    "encoded_features = encoder.fit_transform(data[categorical_features])\n",
    "\n",
    "# Соединяем числовые и закодированные категориальные признаки\n",
    "X = pd.concat([data[numeric_features], pd.DataFrame(encoded_features.toarray())], axis=1)\n",
    "\n",
    "# Отдельно выбираем результативный признак (jp_sales)\n",
    "y = data[\"jp_sales\"]\n",
    "\n",
    "print(X)\n",
    "\n",
    "# Создаем объект StandardScaler\n",
    "scaler = StandardScaler()\n",
    "\n",
    "# Стандартизируем числовые признаки\n",
    "X[numeric_features] = scaler.fit_transform(X[numeric_features])\n",
    "X[numeric_features] = scaler.transform(X[numeric_features])\n",
    "\n",
    "\n",
    "\"\"\" # Проверка на пропущенные значения\n",
    "missing_values = data[\"jp_sales\"].isnull().sum()\n",
    "print(\"Количество пропущенных значений в столбце 'jp_sales':\", missing_values)\n",
    "\n",
    "# Проверка на аномалии\n",
    "anomalies = data[data[\"jp_sales\"].isnull() | (data[\"jp_sales\"] < 0)]\n",
    "print(\"Количество аномалий в столбце 'jp_sales':\", len(anomalies))\n",
    "print(\"Примеры аномалий:\")\n",
    "print(anomalies.head()) \"\"\""
   ]
  },
  {
   "cell_type": "code",
   "execution_count": 11,
   "metadata": {},
   "outputs": [
    {
     "ename": "AttributeError",
     "evalue": "'RandomizedSearchCV' object has no attribute 'best_params_'",
     "output_type": "error",
     "traceback": [
      "\u001b[1;31m---------------------------------------------------------------------------\u001b[0m",
      "\u001b[1;31mAttributeError\u001b[0m                            Traceback (most recent call last)",
      "\u001b[1;32md:\\git\\4.1_labs\\lab1.ipynb Cell 2\u001b[0m line \u001b[0;36m3\n\u001b[0;32m     <a href='vscode-notebook-cell:/d%3A/git/4.1_labs/lab1.ipynb#W1sZmlsZQ%3D%3D?line=35'>36</a>\u001b[0m model\u001b[39m.\u001b[39mfit(X, y)\n\u001b[0;32m     <a href='vscode-notebook-cell:/d%3A/git/4.1_labs/lab1.ipynb#W1sZmlsZQ%3D%3D?line=37'>38</a>\u001b[0m \u001b[39m# Выводим наилучшие параметры\u001b[39;00m\n\u001b[1;32m---> <a href='vscode-notebook-cell:/d%3A/git/4.1_labs/lab1.ipynb#W1sZmlsZQ%3D%3D?line=38'>39</a>\u001b[0m \u001b[39mprint\u001b[39m(\u001b[39m\"\u001b[39m\u001b[39mBest Parameters: \u001b[39m\u001b[39m\"\u001b[39m, random_search\u001b[39m.\u001b[39;49mbest_params_)\n\u001b[0;32m     <a href='vscode-notebook-cell:/d%3A/git/4.1_labs/lab1.ipynb#W1sZmlsZQ%3D%3D?line=40'>41</a>\u001b[0m \u001b[39m# Делаем прогнозы на тестовом наборе данных с лучшими параметрами\u001b[39;00m\n\u001b[0;32m     <a href='vscode-notebook-cell:/d%3A/git/4.1_labs/lab1.ipynb#W1sZmlsZQ%3D%3D?line=41'>42</a>\u001b[0m y_pred \u001b[39m=\u001b[39m random_search\u001b[39m.\u001b[39mpredict(X)\n",
      "\u001b[1;31mAttributeError\u001b[0m: 'RandomizedSearchCV' object has no attribute 'best_params_'"
     ]
    }
   ],
   "source": [
    "import numpy as np\n",
    "# Класс для множественной линейной регрессии\n",
    "class MultipleRegression:\n",
    "    def __init__(self, learning_rate=0.01, n_iterations=1000):\n",
    "        self.learning_rate = learning_rate\n",
    "        self.n_iterations = n_iterations\n",
    "\n",
    "    def fit(self, X, y):\n",
    "        self.weights = np.zeros(X.shape[1])\n",
    "        for _ in range(self.n_iterations):\n",
    "            gradient = self.calculate_gradient(X, y)\n",
    "            self.weights -= self.learning_rate * gradient\n",
    "\n",
    "    def calculate_gradient(self, X, y):\n",
    "        n_samples = X.shape[0]\n",
    "        y_pred = X.dot(self.weights)\n",
    "        error = y_pred - y\n",
    "        gradient = X.T.dot(error) / n_samples\n",
    "        return gradient\n",
    "\n",
    "    def predict(self, X):\n",
    "        return X.dot(self.weights)\n",
    "\n",
    "# Создаем и обучаем модель\n",
    "model = MultipleRegression()\n",
    "model.fit(X_train, y_train)\n",
    "\n",
    "# Делаем прогнозы для jp_sales на тестовом наборе\n",
    "y_pred = model.predict(X_test)\n",
    "\n",
    "# Вычисляем MAE и MAPE на тестовом наборе\n",
    "mae = np.mean(np.abs(y_test - y_pred))\n",
    "mape = np.mean(np.abs((y_test - y_pred) / y_test)) * 100\n",
    "\n",
    "print(\"Mean Absolute Error (MAE):\", mae)\n",
    "print(\"Mean Absolute Percentage Error (MAPE):\", mape)"
   ]
  }
 ],
 "metadata": {
  "kernelspec": {
   "display_name": "Python 3",
   "language": "python",
   "name": "python3"
  },
  "language_info": {
   "codemirror_mode": {
    "name": "ipython",
    "version": 3
   },
   "file_extension": ".py",
   "mimetype": "text/x-python",
   "name": "python",
   "nbconvert_exporter": "python",
   "pygments_lexer": "ipython3",
   "version": "3.10.1"
  },
  "orig_nbformat": 4
 },
 "nbformat": 4,
 "nbformat_minor": 2
}
